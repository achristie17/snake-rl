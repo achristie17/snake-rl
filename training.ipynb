{
 "cells": [
  {
   "cell_type": "code",
   "execution_count": 4,
   "metadata": {},
   "outputs": [],
   "source": [
    "%load_ext autoreload\n",
    "%autoreload 2"
   ]
  },
  {
   "cell_type": "code",
   "execution_count": null,
   "metadata": {},
   "outputs": [],
   "source": [
    "from train import *\n",
    "from geneticAlg import *\n",
    "\n",
    "# Run the training\n",
    "train_genetic_algorithm(generations=2000, max_steps=150)\n"
   ]
  },
  {
   "cell_type": "code",
   "execution_count": 2,
   "metadata": {},
   "outputs": [],
   "source": [
    "import time\n",
    "\n",
    "def watch_snake(model, num_episodes, board_size, max_steps):\n",
    "    done =  False\n",
    "    for episode in range(num_episodes):\n",
    "        game = Snake(board_size)\n",
    "        state = game.get_state()\n",
    "        returns = 0\n",
    "        for step in range(max_steps):\n",
    "            # Choose action\n",
    "            action = choose_action(model, state)\n",
    "\n",
    "            # Take action and observe next state and reward\n",
    "            next_state, reward, done = game.step(action)\n",
    "            print(game)\n",
    "\n",
    "            returns += reward\n",
    "\n",
    "            if done:\n",
    "                break\n",
    "            time.sleep(0.1)\n",
    "        print(returns)"
   ]
  },
  {
   "cell_type": "code",
   "execution_count": null,
   "metadata": {},
   "outputs": [],
   "source": [
    "import matplotlib.pyplot as plt\n",
    "\n",
    "# Define the window size for the moving average\n",
    "window_size = 100\n",
    "\n",
    "# Calculate the moving average\n",
    "y_smooth = np.convolve(returns, np.ones(window_size)/window_size, mode='valid')\n",
    "\n",
    "\n",
    "# Plotting the line graph\n",
    "plt.plot(y_smooth)\n",
    "\n",
    "# Adding labels and title\n",
    "plt.xlabel('X-axis Label')\n",
    "plt.ylabel('Y-axis Label')\n",
    "plt.title('Simple Line Graph')\n",
    "\n",
    "\n",
    "# Display the plot\n",
    "plt.show()"
   ]
  },
  {
   "cell_type": "code",
   "execution_count": null,
   "metadata": {},
   "outputs": [],
   "source": []
  }
 ],
 "metadata": {
  "kernelspec": {
   "display_name": "Python 3",
   "language": "python",
   "name": "python3"
  },
  "language_info": {
   "codemirror_mode": {
    "name": "ipython",
    "version": 3
   },
   "file_extension": ".py",
   "mimetype": "text/x-python",
   "name": "python",
   "nbconvert_exporter": "python",
   "pygments_lexer": "ipython3",
   "version": "3.12.1"
  }
 },
 "nbformat": 4,
 "nbformat_minor": 2
}
